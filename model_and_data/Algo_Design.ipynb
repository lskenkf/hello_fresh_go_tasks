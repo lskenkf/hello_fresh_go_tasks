{
 "cells": [
  {
   "cell_type": "markdown",
   "id": "047618bb",
   "metadata": {},
   "source": [
    "- (c1): Each fridge should get at least 5 different product categories (Ready Meals, Sandwiches, Wraps etc) <b>\n",
    "- (c2): The similarity of articles, if compared to the last 2 weeks should be less than 50% <b>\n",
    "    - if all articles in the menu were stocked in the last 2 weeks = 100% Similarity <b>\n",
    "    - if none of the articles was stocked in the last 2 weeks = 0% Similarity <b>\n",
    "- (c3): Each fridge should only get the products that are available in the warehouse of the hub closest to the fridge. <b> \n",
    "    - For example, a fridge in Berlin should only get products that are available in the warehouse in Berlin <b>\n",
    "- (c4): No product that is stocked should have passed its best before date (MHD) <b>"
   ]
  },
  {
   "cell_type": "markdown",
   "id": "ce6c4706",
   "metadata": {},
   "source": [
    "The problem is what is the minimal costs if a warehouse need to prepare food which could satisfy c1, c2 and c4.\n",
    "#https://brilliant.org/wiki/linear-programming/#when-to-use-linear-programming"
   ]
  },
  {
   "cell_type": "code",
   "execution_count": null,
   "id": "4da680d0",
   "metadata": {},
   "outputs": [],
   "source": [
    "a1: we replace the food each k days.\n",
    "a2: each fridage have a capacity for food."
   ]
  },
  {
   "cell_type": "markdown",
   "id": "a23e835c",
   "metadata": {},
   "source": [
    "for each warehouse do:<b>\n",
    "   -  get all the avaiable articles's amount,MHD,product categories in this warehouse<b>\n",
    "   -  get amount,MHD and product categories of all fridges' stocked food if the warehouse is the closest one to them.<b>\n",
    "   -  for each fridge do a lineat programming optimization to minimize the cost of food preparation with the following constraints:<b>\n",
    "       - the number of each article shall be >=0<b>\n",
    "       - if a new article is stocked in fridge it shall not expire until next food delivery<b>\n",
    "       - existing food in a fridge shall not expire until next food delivery if we do not replace it this time.<b>\n",
    "       - after food delivery the total amount shall not exceed the capacity of each fridge.<b>\n",
    "       - after food delivery the existing food (newly delivered and not replaced) shall have <=50% similarity comparing with last 2 weeks stocked articles.<b>\n",
    "       - after delivery there must be 5 categories in this fridge.\n",
    "        "
   ]
  },
  {
   "cell_type": "code",
   "execution_count": null,
   "id": "1e4bc86d",
   "metadata": {},
   "outputs": [],
   "source": []
  }
 ],
 "metadata": {
  "kernelspec": {
   "display_name": "Python 3 (ipykernel)",
   "language": "python",
   "name": "python3"
  },
  "language_info": {
   "codemirror_mode": {
    "name": "ipython",
    "version": 3
   },
   "file_extension": ".py",
   "mimetype": "text/x-python",
   "name": "python",
   "nbconvert_exporter": "python",
   "pygments_lexer": "ipython3",
   "version": "3.9.1"
  }
 },
 "nbformat": 4,
 "nbformat_minor": 5
}
