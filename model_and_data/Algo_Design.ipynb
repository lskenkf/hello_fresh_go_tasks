{
 "cells": [
  {
   "cell_type": "markdown",
   "id": "8cdae0fa",
   "metadata": {},
   "source": [
    "- (c1): Each fridge should get at least 5 different product categories (Ready Meals, Sandwiches, Wraps etc) <b>\n",
    "- (c2): The similarity of articles, if compared to the last 2 weeks should be less than 50% <b>\n",
    "    - if all articles in the menu were stocked in the last 2 weeks = 100% Similarity <b>\n",
    "    - if none of the articles was stocked in the last 2 weeks = 0% Similarity <b>\n",
    "- (c3): Each fridge should only get the products that are available in the warehouse of the hub closest to the fridge. <b> \n",
    "    - For example, a fridge in Berlin should only get products that are available in the warehouse in Berlin <b>\n",
    "- (c4): No product that is stocked should have passed its best before date (MHD) <b>"
   ]
  },
  {
   "cell_type": "markdown",
   "id": "71150784",
   "metadata": {},
   "source": [
    "The problem is what is the minimal costs if a warehouse need to prepare food which could satisfy c1, c2 and c4.\n",
    "link to non-linear programming: https://apmonitor.com/pdc/index.php/Main/NonlinearProgramming"
   ]
  },
  {
   "cell_type": "markdown",
   "id": "8af6a1d7",
   "metadata": {},
   "source": [
    "- Assumptions:<b>\n",
    "    - a1: we replace the food in each fridge each k_i_j days where k_i_j is the time gap we deliver food to j-th fridge between the (i-1)-th and i-th delivery.<b>\n",
    "    - a2: each fridage has a capacity for food.\n",
    "    - a3: we deliver food before lunch time.\n",
    "    - a4: we make decision/prediction always today after lunch time for the next working day.\n",
    "    - a5: newly stocked food will not pass their MHD until next planned delivery date."
   ]
  },
  {
   "cell_type": "markdown",
   "id": "d02c2f95",
   "metadata": {},
   "source": [
    "In general, we have this flow: warehouse ==> fridge ==> category ==> article <b>\n",
    "\n",
    "for each warehouse do:<b>\n",
    "   -  get all the avaiable articles's amount,MHD,product categories in this warehouse<b>\n",
    "   -  get amount,MHD and product categories of each fridges' stocked food if the warehouse is the closest one to them.<b>\n",
    "   -  for each fridge f_i do:\n",
    "      - build a model m_i to predict the consumption of each category j  c_i_j in next working day (Here we need to distinguish between weekend and working day).<b>       \n",
    "          -  for each category j get c_i_j<b>,\n",
    "            - if c_i_j is small and close to 0: replace it with new category (the recommendation can come either from expert or from another model).\n",
    "            - elif s_i_j(existing stocked food) - c_i_j  <0 (a3,a4), i.e., food for this category will went shortage in the next working day. We must deliver food so that it will meet the demand until next working day.   \n",
    "          -  now we have planned our delivery dates, then we need to adjust the menu\n",
    "             - take back all existing articles in the fridge which will pass their MHD before the delivery date after the incomming delivery date(a5).                                               \n",
    "             - make sure we have at least 5 categories, if not include new category\n",
    "             - within each category:\n",
    "                - make sure the overlapping between last 2 weeks' articles and newly planned articles < 50%, otherwise replace existing articles with new one.\n",
    "            \n",
    "        "
   ]
  },
  {
   "cell_type": "code",
   "execution_count": null,
   "id": "128396fd",
   "metadata": {},
   "outputs": [],
   "source": []
  }
 ],
 "metadata": {
  "kernelspec": {
   "display_name": "Python 3 (ipykernel)",
   "language": "python",
   "name": "python3"
  },
  "language_info": {
   "codemirror_mode": {
    "name": "ipython",
    "version": 3
   },
   "file_extension": ".py",
   "mimetype": "text/x-python",
   "name": "python",
   "nbconvert_exporter": "python",
   "pygments_lexer": "ipython3",
   "version": "3.9.1"
  }
 },
 "nbformat": 4,
 "nbformat_minor": 5
}
